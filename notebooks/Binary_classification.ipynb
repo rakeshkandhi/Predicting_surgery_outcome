{
 "cells": [
  {
   "cell_type": "markdown",
   "id": "a039bac8-2aa7-436b-a0c0-5d77572c63d7",
   "metadata": {},
   "source": [
    "# Predicting Surgery Outcome: Binary Classification based on Patient Factors and Medical Data"
   ]
  },
  {
   "cell_type": "code",
   "execution_count": 1,
   "id": "ab4e7c59-cdf9-459a-a951-f5b7f9b99d75",
   "metadata": {},
   "outputs": [],
   "source": [
    "import os\n",
    "import warnings\n",
    "\n",
    "import matplotlib.pyplot as pyplot\n",
    "import matplotlib.pyplot as plt\n",
    "import numpy as np\n",
    "import pandas as pd\n",
    "import seaborn as sns\n",
    "from sklearn.decomposition import PCA\n",
    "from sklearn.ensemble import RandomForestClassifier\n",
    "from sklearn.linear_model import LogisticRegression, SGDClassifier\n",
    "from sklearn.metrics import (\n",
    "    accuracy_score,\n",
    "    classification_report,\n",
    "    confusion_matrix,\n",
    "    f1_score,\n",
    "    precision_score,\n",
    "    r2_score,\n",
    "    recall_score,\n",
    ")\n",
    "from sklearn.model_selection import train_test_split\n",
    "from sklearn.naive_bayes import GaussianNB\n",
    "from sklearn.neighbors import KNeighborsClassifier\n",
    "from sklearn.preprocessing import LabelEncoder\n",
    "from sklearn.svm import LinearSVC\n",
    "from sklearn.tree import DecisionTreeClassifier\n",
    "\n",
    "warnings.filterwarnings(\"ignore\")"
   ]
  },
  {
   "cell_type": "code",
   "execution_count": 2,
   "id": "bcc597c6-de75-4ac0-9f92-7b62fdb13a43",
   "metadata": {},
   "outputs": [
    {
     "data": {
      "text/html": [
       "<div>\n",
       "<style scoped>\n",
       "    .dataframe tbody tr th:only-of-type {\n",
       "        vertical-align: middle;\n",
       "    }\n",
       "\n",
       "    .dataframe tbody tr th {\n",
       "        vertical-align: top;\n",
       "    }\n",
       "\n",
       "    .dataframe thead th {\n",
       "        text-align: right;\n",
       "    }\n",
       "</style>\n",
       "<table border=\"1\" class=\"dataframe\">\n",
       "  <thead>\n",
       "    <tr style=\"text-align: right;\">\n",
       "      <th></th>\n",
       "      <th>L-CORE</th>\n",
       "      <th>L-SURF</th>\n",
       "      <th>L-O2</th>\n",
       "      <th>L-BP</th>\n",
       "      <th>SURF-STBL</th>\n",
       "      <th>CORE-STBL</th>\n",
       "      <th>BP-STBL</th>\n",
       "      <th>COMFORT</th>\n",
       "      <th>decision ADM-DECS</th>\n",
       "    </tr>\n",
       "  </thead>\n",
       "  <tbody>\n",
       "    <tr>\n",
       "      <th>0</th>\n",
       "      <td>mid</td>\n",
       "      <td>low</td>\n",
       "      <td>excellent</td>\n",
       "      <td>mid</td>\n",
       "      <td>stable</td>\n",
       "      <td>stable</td>\n",
       "      <td>stable</td>\n",
       "      <td>15</td>\n",
       "      <td>A</td>\n",
       "    </tr>\n",
       "    <tr>\n",
       "      <th>1</th>\n",
       "      <td>mid</td>\n",
       "      <td>high</td>\n",
       "      <td>excellent</td>\n",
       "      <td>high</td>\n",
       "      <td>stable</td>\n",
       "      <td>stable</td>\n",
       "      <td>stable</td>\n",
       "      <td>10</td>\n",
       "      <td>S</td>\n",
       "    </tr>\n",
       "    <tr>\n",
       "      <th>2</th>\n",
       "      <td>high</td>\n",
       "      <td>low</td>\n",
       "      <td>excellent</td>\n",
       "      <td>high</td>\n",
       "      <td>stable</td>\n",
       "      <td>stable</td>\n",
       "      <td>mod-stable</td>\n",
       "      <td>10</td>\n",
       "      <td>A</td>\n",
       "    </tr>\n",
       "    <tr>\n",
       "      <th>3</th>\n",
       "      <td>mid</td>\n",
       "      <td>low</td>\n",
       "      <td>good</td>\n",
       "      <td>high</td>\n",
       "      <td>stable</td>\n",
       "      <td>unstable</td>\n",
       "      <td>mod-stable</td>\n",
       "      <td>15</td>\n",
       "      <td>A</td>\n",
       "    </tr>\n",
       "    <tr>\n",
       "      <th>4</th>\n",
       "      <td>mid</td>\n",
       "      <td>mid</td>\n",
       "      <td>excellent</td>\n",
       "      <td>high</td>\n",
       "      <td>stable</td>\n",
       "      <td>stable</td>\n",
       "      <td>stable</td>\n",
       "      <td>10</td>\n",
       "      <td>A</td>\n",
       "    </tr>\n",
       "  </tbody>\n",
       "</table>\n",
       "</div>"
      ],
      "text/plain": [
       "  L-CORE L-SURF       L-O2  L-BP SURF-STBL CORE-STBL     BP-STBL  COMFORT  \\\n",
       "0    mid    low  excellent   mid    stable    stable      stable       15   \n",
       "1    mid   high  excellent  high    stable    stable      stable       10   \n",
       "2   high    low  excellent  high    stable    stable  mod-stable       10   \n",
       "3    mid    low       good  high    stable  unstable  mod-stable       15   \n",
       "4    mid    mid  excellent  high    stable    stable      stable       10   \n",
       "\n",
       "  decision ADM-DECS  \n",
       "0                 A  \n",
       "1                 S  \n",
       "2                 A  \n",
       "3                 A  \n",
       "4                 A  "
      ]
     },
     "execution_count": 2,
     "metadata": {},
     "output_type": "execute_result"
    }
   ],
   "source": [
    "path = \"../Artifacts/postoperativedata.csv\"\n",
    "df = pd.read_csv(path)\n",
    "df.head()"
   ]
  },
  {
   "cell_type": "code",
   "execution_count": 3,
   "id": "e6801da6-eb44-4912-9b78-1b13cdf6e656",
   "metadata": {},
   "outputs": [
    {
     "data": {
      "text/plain": [
       "(540, 9)"
      ]
     },
     "execution_count": 3,
     "metadata": {},
     "output_type": "execute_result"
    }
   ],
   "source": [
    "df.shape"
   ]
  },
  {
   "cell_type": "code",
   "execution_count": 4,
   "id": "8196ea03-1439-4f6e-b61d-e1a4bfa73148",
   "metadata": {},
   "outputs": [
    {
     "data": {
      "text/plain": [
       "Index(['L-CORE', 'L-SURF', 'L-O2', 'L-BP', 'SURF-STBL', 'CORE-STBL', 'BP-STBL',\n",
       "       'COMFORT', 'decision ADM-DECS'],\n",
       "      dtype='object')"
      ]
     },
     "execution_count": 4,
     "metadata": {},
     "output_type": "execute_result"
    }
   ],
   "source": [
    "df.columns"
   ]
  },
  {
   "cell_type": "code",
   "execution_count": 5,
   "id": "f791c89b-c7ef-4dbc-94d7-2cedf49e31ec",
   "metadata": {},
   "outputs": [
    {
     "name": "stdout",
     "output_type": "stream",
     "text": [
      "<class 'pandas.core.frame.DataFrame'>\n",
      "RangeIndex: 540 entries, 0 to 539\n",
      "Data columns (total 9 columns):\n",
      " #   Column             Non-Null Count  Dtype \n",
      "---  ------             --------------  ----- \n",
      " 0   L-CORE             540 non-null    object\n",
      " 1   L-SURF             540 non-null    object\n",
      " 2   L-O2               540 non-null    object\n",
      " 3   L-BP               540 non-null    object\n",
      " 4   SURF-STBL          540 non-null    object\n",
      " 5   CORE-STBL          540 non-null    object\n",
      " 6   BP-STBL            540 non-null    object\n",
      " 7   COMFORT            540 non-null    int64 \n",
      " 8   decision ADM-DECS  540 non-null    object\n",
      "dtypes: int64(1), object(8)\n",
      "memory usage: 38.1+ KB\n"
     ]
    }
   ],
   "source": [
    "df.info()"
   ]
  },
  {
   "cell_type": "code",
   "execution_count": 6,
   "id": "97de1c37-6e27-4b9e-a68d-98476e598ca3",
   "metadata": {},
   "outputs": [
    {
     "data": {
      "image/png": "[encoded data removed]",
      "text/plain": [
       "<Figure size 800x600 with 1 Axes>"
      ]
     },
     "metadata": {},
     "output_type": "display_data"
    }
   ],
   "source": [
    "# Create a count plot for the label column\n",
    "plt.figure(figsize=(8, 6))\n",
    "ax = sns.countplot(data=df, x=\"decision ADM-DECS\")\n",
    "plt.xlabel(\"decision ADM-DECS\")\n",
    "plt.ylabel(\"Count\")\n",
    "plt.title(\"Count Plot\")\n",
    "\n",
    "# Annotate bars with counts\n",
    "for p in ax.patches:\n",
    "    ax.annotate(\n",
    "        f\"{p.get_height()}\",\n",
    "        (p.get_x() + p.get_width() / 2.0, p.get_height()),\n",
    "        ha=\"center\",\n",
    "        va=\"center\",\n",
    "        xytext=(0, 10),\n",
    "        textcoords=\"offset points\",\n",
    "    )\n",
    "\n",
    "plt.show()"
   ]
  },
  {
   "cell_type": "markdown",
   "id": "43574a72-5403-4655-864e-e43b3b967e15",
   "metadata": {},
   "source": [
    "### checking null values"
   ]
  },
  {
   "cell_type": "code",
   "execution_count": 7,
   "id": "c0ec36d5-52f1-45a7-8baf-abc8cb14a269",
   "metadata": {},
   "outputs": [
    {
     "data": {
      "text/plain": [
       "L-CORE               0\n",
       "L-SURF               0\n",
       "L-O2                 0\n",
       "L-BP                 0\n",
       "SURF-STBL            0\n",
       "CORE-STBL            0\n",
       "BP-STBL              0\n",
       "COMFORT              0\n",
       "decision ADM-DECS    0\n",
       "dtype: int64"
      ]
     },
     "execution_count": 7,
     "metadata": {},
     "output_type": "execute_result"
    }
   ],
   "source": [
    "df.isnull().sum()"
   ]
  },
  {
   "cell_type": "markdown",
   "id": "7a24e3e4-f830-4a9c-a23d-b8ce7f26988e",
   "metadata": {},
   "source": [
    "# Splitting the data "
   ]
  },
  {
   "cell_type": "code",
   "execution_count": 8,
   "id": "52f5c50a-8457-49eb-b0b4-ca72f52228fc",
   "metadata": {},
   "outputs": [],
   "source": [
    "X = df.iloc[:, :-1]\n",
    "y = df.iloc[:, -1]"
   ]
  },
  {
   "cell_type": "code",
   "execution_count": 9,
   "id": "bec5f4ba-7769-4684-b98f-f8c9a79cce36",
   "metadata": {},
   "outputs": [],
   "source": [
    "# Label encoding\n",
    "le = LabelEncoder()\n",
    "y = le.fit_transform(y)"
   ]
  },
  {
   "cell_type": "code",
   "execution_count": 10,
   "id": "9cd25971-6138-460e-8d70-09e199511a1a",
   "metadata": {},
   "outputs": [
    {
     "data": {
      "text/plain": [
       "array(['high', 'low', 'mid'], dtype=object)"
      ]
     },
     "execution_count": 10,
     "metadata": {},
     "output_type": "execute_result"
    }
   ],
   "source": [
    "X[\"L-CORE\"] = le.fit_transform(X[\"L-CORE\"])\n",
    "le.classes_"
   ]
  },
  {
   "cell_type": "code",
   "execution_count": 11,
   "id": "c8026eb4-cf46-4d6c-aa61-af29fbb85db3",
   "metadata": {},
   "outputs": [
    {
     "data": {
      "text/plain": [
       "array(['high', 'low', 'mid'], dtype=object)"
      ]
     },
     "execution_count": 11,
     "metadata": {},
     "output_type": "execute_result"
    }
   ],
   "source": [
    "X[\"L-SURF\"] = le.fit_transform(X[\"L-SURF\"])\n",
    "le.classes_"
   ]
  },
  {
   "cell_type": "code",
   "execution_count": 12,
   "id": "e553f957-23ff-4adf-a26a-98b5e63df5e7",
   "metadata": {},
   "outputs": [
    {
     "data": {
      "text/plain": [
       "array(['excellent', 'good'], dtype=object)"
      ]
     },
     "execution_count": 12,
     "metadata": {},
     "output_type": "execute_result"
    }
   ],
   "source": [
    "X[\"L-O2\"] = le.fit_transform(X[\"L-O2\"])\n",
    "le.classes_"
   ]
  },
  {
   "cell_type": "code",
   "execution_count": 13,
   "id": "4ab6a403-b04f-4e0d-9299-18254ad5d96f",
   "metadata": {},
   "outputs": [
    {
     "data": {
      "text/plain": [
       "array(['high', 'low', 'mid'], dtype=object)"
      ]
     },
     "execution_count": 13,
     "metadata": {},
     "output_type": "execute_result"
    }
   ],
   "source": [
    "X[\"L-BP\"] = le.fit_transform(X[\"L-BP\"])\n",
    "le.classes_"
   ]
  },
  {
   "cell_type": "code",
   "execution_count": 14,
   "id": "98e265c8-2be1-4cc0-928b-7684cd250820",
   "metadata": {},
   "outputs": [
    {
     "data": {
      "text/plain": [
       "array(['stable', 'unstable'], dtype=object)"
      ]
     },
     "execution_count": 14,
     "metadata": {},
     "output_type": "execute_result"
    }
   ],
   "source": [
    "X[\"SURF-STBL\"] = le.fit_transform(X[\"SURF-STBL\"])\n",
    "le.classes_"
   ]
  },
  {
   "cell_type": "code",
   "execution_count": 15,
   "id": "fae95c07-cb4f-490b-adda-dc7e47f31817",
   "metadata": {},
   "outputs": [
    {
     "data": {
      "text/plain": [
       "array(['mod-stable', 'stable', 'unstable'], dtype=object)"
      ]
     },
     "execution_count": 15,
     "metadata": {},
     "output_type": "execute_result"
    }
   ],
   "source": [
    "X[\"CORE-STBL\"] = le.fit_transform(X[\"CORE-STBL\"])\n",
    "le.classes_"
   ]
  },
  {
   "cell_type": "code",
   "execution_count": 16,
   "id": "a8f7495c-ae02-47c4-a627-7aa2074c881b",
   "metadata": {},
   "outputs": [
    {
     "data": {
      "text/plain": [
       "array(['mod-stable', 'stable', 'unstable'], dtype=object)"
      ]
     },
     "execution_count": 16,
     "metadata": {},
     "output_type": "execute_result"
    }
   ],
   "source": [
    "X[\"BP-STBL\"] = le.fit_transform(X[\"BP-STBL\"])\n",
    "le.classes_"
   ]
  },
  {
   "cell_type": "markdown",
   "id": "677eddb0-c9c7-40ab-9c00-e0917f7931b2",
   "metadata": {},
   "source": [
    "### Split the data into training and testing sets"
   ]
  },
  {
   "cell_type": "code",
   "execution_count": 17,
   "id": "35c4c98c-8060-4c4a-a716-fb1eae97d339",
   "metadata": {},
   "outputs": [],
   "source": [
    "X_train, X_test, y_train, y_test = train_test_split(\n",
    "    X, y, test_size=0.2, random_state=42\n",
    ")"
   ]
  },
  {
   "cell_type": "markdown",
   "id": "f2cd3531-1f98-426e-8b83-b9c322fe33da",
   "metadata": {},
   "source": [
    "# Model Building"
   ]
  },
  {
   "cell_type": "code",
   "execution_count": 18,
   "id": "0ca3b9a1-3f39-4265-9900-b52dbeee635f",
   "metadata": {},
   "outputs": [],
   "source": [
    "models = {}\n",
    "models[\"Logistic Regression\"] = LogisticRegression()\n",
    "models[\"Stochastic Gradient Descent\"] = SGDClassifier(\n",
    "    loss=\"modified_huber\", shuffle=True, random_state=101\n",
    ")\n",
    "models[\"Support Vector Machines\"] = LinearSVC()\n",
    "models[\"Decision Trees\"] = DecisionTreeClassifier()\n",
    "models[\"Random Forest\"] = RandomForestClassifier(\n",
    "    n_estimators=200,\n",
    "    random_state=42,\n",
    "    criterion=\"entropy\",\n",
    "    max_depth=10,\n",
    "    min_samples_split=3,\n",
    ")\n",
    "models[\"Naive Bayes\"] = GaussianNB()\n",
    "models[\"K-Nearest Neighbor\"] = KNeighborsClassifier()"
   ]
  },
  {
   "cell_type": "code",
   "execution_count": 19,
   "id": "650c2032-178e-45d0-975c-b8af4c6bbb49",
   "metadata": {},
   "outputs": [
    {
     "name": "stdout",
     "output_type": "stream",
     "text": [
      "Model:\tLogisticRegression()\n",
      "Model:\tSGDClassifier(loss='modified_huber', random_state=101)\n",
      "Model:\tLinearSVC()\n",
      "Model:\tDecisionTreeClassifier()\n",
      "Model:\tRandomForestClassifier(criterion='entropy', max_depth=10, min_samples_split=3,\n",
      "                       n_estimators=200, random_state=42)\n",
      "Model:\tGaussianNB()\n",
      "Model:\tKNeighborsClassifier()\n"
     ]
    }
   ],
   "source": [
    "for i in range(len(list(models))):\n",
    "    model = list(models.values())[i]\n",
    "    print(\"Model:\\t{}\".format(model))"
   ]
  },
  {
   "cell_type": "markdown",
   "id": "49ada0dc-f789-4ec9-b620-cd3a8705e070",
   "metadata": {},
   "source": [
    " # Training the models and calculating the acuuaracy"
   ]
  },
  {
   "cell_type": "code",
   "execution_count": 20,
   "id": "c550fa99-1e43-4d1c-924f-a17b11b6b40a",
   "metadata": {},
   "outputs": [],
   "source": [
    "accuracy, precision, recall = {}, {}, {}\n",
    "for i in range(len(list(models))):\n",
    "    model = list(models.values())[i]\n",
    "    key = list(models.keys())[i]\n",
    "    model.fit(X_train, y_train)\n",
    "    predictions = model.predict(X_test)\n",
    "    accuracy[key] = accuracy_score(y_test, predictions)\n",
    "    precision[key] = precision_score(y_test, predictions)\n",
    "    recall[key] = recall_score(y_test, predictions)"
   ]
  },
  {
   "cell_type": "markdown",
   "id": "c1bf108f-84ee-4368-a659-51e8aa4b4594",
   "metadata": {},
   "source": [
    "# Accuaracy of models build "
   ]
  },
  {
   "cell_type": "code",
   "execution_count": 21,
   "id": "2f335ae8-2193-47a1-93c7-debbc3ff6b6a",
   "metadata": {},
   "outputs": [
    {
     "data": {
      "text/html": [
       "<div>\n",
       "<style scoped>\n",
       "    .dataframe tbody tr th:only-of-type {\n",
       "        vertical-align: middle;\n",
       "    }\n",
       "\n",
       "    .dataframe tbody tr th {\n",
       "        vertical-align: top;\n",
       "    }\n",
       "\n",
       "    .dataframe thead th {\n",
       "        text-align: right;\n",
       "    }\n",
       "</style>\n",
       "<table border=\"1\" class=\"dataframe\">\n",
       "  <thead>\n",
       "    <tr style=\"text-align: right;\">\n",
       "      <th></th>\n",
       "      <th>Accuracy</th>\n",
       "      <th>Precision</th>\n",
       "      <th>Recall</th>\n",
       "    </tr>\n",
       "  </thead>\n",
       "  <tbody>\n",
       "    <tr>\n",
       "      <th>Logistic Regression</th>\n",
       "      <td>0.675926</td>\n",
       "      <td>0.000000</td>\n",
       "      <td>0.000000</td>\n",
       "    </tr>\n",
       "    <tr>\n",
       "      <th>Stochastic Gradient Descent</th>\n",
       "      <td>0.712963</td>\n",
       "      <td>1.000000</td>\n",
       "      <td>0.114286</td>\n",
       "    </tr>\n",
       "    <tr>\n",
       "      <th>Support Vector Machines</th>\n",
       "      <td>0.694444</td>\n",
       "      <td>0.666667</td>\n",
       "      <td>0.114286</td>\n",
       "    </tr>\n",
       "    <tr>\n",
       "      <th>Decision Trees</th>\n",
       "      <td>0.944444</td>\n",
       "      <td>1.000000</td>\n",
       "      <td>0.828571</td>\n",
       "    </tr>\n",
       "    <tr>\n",
       "      <th>Random Forest</th>\n",
       "      <td>0.944444</td>\n",
       "      <td>0.939394</td>\n",
       "      <td>0.885714</td>\n",
       "    </tr>\n",
       "    <tr>\n",
       "      <th>Naive Bayes</th>\n",
       "      <td>0.685185</td>\n",
       "      <td>0.545455</td>\n",
       "      <td>0.171429</td>\n",
       "    </tr>\n",
       "    <tr>\n",
       "      <th>K-Nearest Neighbor</th>\n",
       "      <td>0.944444</td>\n",
       "      <td>0.939394</td>\n",
       "      <td>0.885714</td>\n",
       "    </tr>\n",
       "  </tbody>\n",
       "</table>\n",
       "</div>"
      ],
      "text/plain": [
       "                             Accuracy  Precision    Recall\n",
       "Logistic Regression          0.675926   0.000000  0.000000\n",
       "Stochastic Gradient Descent  0.712963   1.000000  0.114286\n",
       "Support Vector Machines      0.694444   0.666667  0.114286\n",
       "Decision Trees               0.944444   1.000000  0.828571\n",
       "Random Forest                0.944444   0.939394  0.885714\n",
       "Naive Bayes                  0.685185   0.545455  0.171429\n",
       "K-Nearest Neighbor           0.944444   0.939394  0.885714"
      ]
     },
     "execution_count": 21,
     "metadata": {},
     "output_type": "execute_result"
    }
   ],
   "source": [
    "df_model = pd.DataFrame(\n",
    "    index=models.keys(), columns=[\"Accuracy\", \"Precision\", \"Recall\"]\n",
    ")\n",
    "df_model[\"Accuracy\"] = accuracy.values()\n",
    "df_model[\"Precision\"] = precision.values()\n",
    "df_model[\"Recall\"] = recall.values()\n",
    "\n",
    "df_model"
   ]
  },
  {
   "cell_type": "code",
   "execution_count": 22,
   "id": "a21c7d4d-f50d-4205-af2b-ed77d26b25e1",
   "metadata": {},
   "outputs": [
    {
     "data": {
      "image/png": "[encoded data removed]",
      "text/plain": [
       "<Figure size 640x480 with 1 Axes>"
      ]
     },
     "metadata": {},
     "output_type": "display_data"
    }
   ],
   "source": [
    "ax = df_model.plot.barh()\n",
    "ax.legend(\n",
    "    ncol=len(models.keys()), bbox_to_anchor=(0, 1), loc=\"lower left\", prop={\"size\": 14}\n",
    ")\n",
    "plt.tight_layout()"
   ]
  },
  {
   "cell_type": "code",
   "execution_count": 23,
   "id": "83229458-4fe5-4041-bfb4-c78de0ba69db",
   "metadata": {},
   "outputs": [],
   "source": [
    "def operation(models):\n",
    "    lcore = int(input(\"Enter the L-CORE: \"))\n",
    "    lsurf = int(input(\"Enter the L-SURF: \"))\n",
    "    l_o2 = int(input(\"Enter the L-O2: \"))\n",
    "    lbp = int(input(\"Enter the L-BP: \"))\n",
    "    surf_stbl = int(input(\"Enter the SURF-STBL: \"))\n",
    "    core_stbl = int(input(\"Enter the CORE-STBL: \"))\n",
    "    bp_stbl = int(input(\"Enter the BP-STBL: \"))\n",
    "    comfort = int(input(\"Enter the COMFORT: \"))\n",
    "    pred_arr = pd.DataFrame(\n",
    "        np.array(\n",
    "            [lcore, lsurf, l_o2, lbp, surf_stbl, core_stbl, bp_stbl, comfort]\n",
    "        ).reshape(1, -1),\n",
    "        columns=[\n",
    "            \"L-CORE\",\n",
    "            \"L-SURF\",\n",
    "            \"L-O2\",\n",
    "            \"L-BP\",\n",
    "            \"SURF-STBL\",\n",
    "            \"CORE-STBL\",\n",
    "            \"BP-STBL\",\n",
    "            \"COMFORT\",\n",
    "        ],\n",
    "    )\n",
    "    for i in range(len(list(models))):\n",
    "        keys = [\n",
    "            \"Logistic Regression\",\n",
    "            \"Stochastic Gradient Descent\",\n",
    "            \"Support Vector Machines\",\n",
    "            \"Decision Trees\",\n",
    "            \"Random Forest\",\n",
    "            \"Naive Bayes\",\n",
    "            \"K-Nearest Neighbor\",\n",
    "        ]\n",
    "        model = list(models.values())[i]\n",
    "        pred = model.predict(pred_arr)\n",
    "        key = keys[i]\n",
    "        print(\"\\n\")\n",
    "        print(key, end=\"\\n\")\n",
    "        if pred[0] == 0:\n",
    "            print(\"Status of operation is: {}\".format(\"Abort\"))\n",
    "        else:\n",
    "            print(\"Status of operation is: {}\".format(\"Success\"))"
   ]
  },
  {
   "cell_type": "code",
   "execution_count": 24,
   "id": "b185e8ec-cb06-4079-bb8d-bd96c9ce42ce",
   "metadata": {},
   "outputs": [
    {
     "name": "stdin",
     "output_type": "stream",
     "text": [
      "Enter the L-CORE:  1\n",
      "Enter the L-SURF:  2\n",
      "Enter the L-O2:  1\n",
      "Enter the L-BP:  0\n",
      "Enter the SURF-STBL:  0\n",
      "Enter the CORE-STBL:  1\n",
      "Enter the BP-STBL:  2\n",
      "Enter the COMFORT:  12\n"
     ]
    },
    {
     "name": "stdout",
     "output_type": "stream",
     "text": [
      "\n",
      "\n",
      "Logistic Regression\n",
      "Status of operation is: Abort\n",
      "\n",
      "\n",
      "Stochastic Gradient Descent\n",
      "Status of operation is: Abort\n",
      "\n",
      "\n",
      "Support Vector Machines\n",
      "Status of operation is: Abort\n",
      "\n",
      "\n",
      "Decision Trees\n",
      "Status of operation is: Abort\n",
      "\n",
      "\n",
      "Random Forest\n",
      "Status of operation is: Abort\n",
      "\n",
      "\n",
      "Naive Bayes\n",
      "Status of operation is: Abort\n",
      "\n",
      "\n",
      "K-Nearest Neighbor\n",
      "Status of operation is: Success\n"
     ]
    }
   ],
   "source": [
    "operation(models)"
   ]
  }
 ],
 "metadata": {
  "kernelspec": {
   "display_name": "Python 3 (ipykernel)",
   "language": "python",
   "name": "python3"
  },
  "language_info": {
   "codemirror_mode": {
    "name": "ipython",
    "version": 3
   },
   "file_extension": ".py",
   "mimetype": "text/x-python",
   "name": "python",
   "nbconvert_exporter": "python",
   "pygments_lexer": "ipython3",
   "version": "3.11.4"
  }
 },
 "nbformat": 4,
 "nbformat_minor": 5
}
