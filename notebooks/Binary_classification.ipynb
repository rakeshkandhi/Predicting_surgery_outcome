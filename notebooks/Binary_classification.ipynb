{
 "cells": [
  {
   "cell_type": "markdown",
   "id": "a039bac8-2aa7-436b-a0c0-5d77572c63d7",
   "metadata": {},
   "source": [
    "# Libraries"
   ]
  },
  {
   "cell_type": "code",
   "execution_count": 1,
   "id": "ab4e7c59-cdf9-459a-a951-f5b7f9b99d75",
   "metadata": {},
   "outputs": [],
   "source": [
    "import os\n",
    "import warnings\n",
    "\n",
    "import matplotlib.pyplot as pyplot\n",
    "import matplotlib.pyplot as plt\n",
    "import numpy as np\n",
    "import pandas as pd\n",
    "import seaborn as sns\n",
    "from sklearn.ensemble import RandomForestClassifier\n",
    "from sklearn.linear_model import LogisticRegression, SGDClassifier\n",
    "from sklearn.metrics import (\n",
    "    accuracy_score,\n",
    "    classification_report,\n",
    "    confusion_matrix,\n",
    "    precision_score,\n",
    "    r2_score,\n",
    "    recall_score,\n",
    ")\n",
    "from sklearn.model_selection import train_test_split\n",
    "from sklearn.naive_bayes import GaussianNB\n",
    "from sklearn.neighbors import KNeighborsClassifier\n",
    "from sklearn.preprocessing import LabelEncoder, StandardScaler\n",
    "from sklearn.svm import LinearSVC\n",
    "from sklearn.tree import DecisionTreeClassifier\n",
    "\n",
    "warnings.filterwarnings('ignore')"
   ]
  },
  {
   "cell_type": "code",
   "execution_count": 2,
   "id": "bcc597c6-de75-4ac0-9f92-7b62fdb13a43",
   "metadata": {},
   "outputs": [
    {
     "data": {
      "text/html": [
       "<div>\n",
       "<style scoped>\n",
       "    .dataframe tbody tr th:only-of-type {\n",
       "        vertical-align: middle;\n",
       "    }\n",
       "\n",
       "    .dataframe tbody tr th {\n",
       "        vertical-align: top;\n",
       "    }\n",
       "\n",
       "    .dataframe thead th {\n",
       "        text-align: right;\n",
       "    }\n",
       "</style>\n",
       "<table border=\"1\" class=\"dataframe\">\n",
       "  <thead>\n",
       "    <tr style=\"text-align: right;\">\n",
       "      <th></th>\n",
       "      <th>L-CORE</th>\n",
       "      <th>L-SURF</th>\n",
       "      <th>L-O2</th>\n",
       "      <th>L-BP</th>\n",
       "      <th>SURF-STBL</th>\n",
       "      <th>CORE-STBL</th>\n",
       "      <th>BP-STBL</th>\n",
       "      <th>COMFORT</th>\n",
       "      <th>decision ADM-DECS</th>\n",
       "    </tr>\n",
       "  </thead>\n",
       "  <tbody>\n",
       "    <tr>\n",
       "      <th>0</th>\n",
       "      <td>mid</td>\n",
       "      <td>low</td>\n",
       "      <td>excellent</td>\n",
       "      <td>mid</td>\n",
       "      <td>stable</td>\n",
       "      <td>stable</td>\n",
       "      <td>stable</td>\n",
       "      <td>15</td>\n",
       "      <td>A</td>\n",
       "    </tr>\n",
       "    <tr>\n",
       "      <th>1</th>\n",
       "      <td>mid</td>\n",
       "      <td>high</td>\n",
       "      <td>excellent</td>\n",
       "      <td>high</td>\n",
       "      <td>stable</td>\n",
       "      <td>stable</td>\n",
       "      <td>stable</td>\n",
       "      <td>10</td>\n",
       "      <td>S</td>\n",
       "    </tr>\n",
       "    <tr>\n",
       "      <th>2</th>\n",
       "      <td>high</td>\n",
       "      <td>low</td>\n",
       "      <td>excellent</td>\n",
       "      <td>high</td>\n",
       "      <td>stable</td>\n",
       "      <td>stable</td>\n",
       "      <td>mod-stable</td>\n",
       "      <td>10</td>\n",
       "      <td>A</td>\n",
       "    </tr>\n",
       "    <tr>\n",
       "      <th>3</th>\n",
       "      <td>mid</td>\n",
       "      <td>low</td>\n",
       "      <td>good</td>\n",
       "      <td>high</td>\n",
       "      <td>stable</td>\n",
       "      <td>unstable</td>\n",
       "      <td>mod-stable</td>\n",
       "      <td>15</td>\n",
       "      <td>A</td>\n",
       "    </tr>\n",
       "    <tr>\n",
       "      <th>4</th>\n",
       "      <td>mid</td>\n",
       "      <td>mid</td>\n",
       "      <td>excellent</td>\n",
       "      <td>high</td>\n",
       "      <td>stable</td>\n",
       "      <td>stable</td>\n",
       "      <td>stable</td>\n",
       "      <td>10</td>\n",
       "      <td>A</td>\n",
       "    </tr>\n",
       "  </tbody>\n",
       "</table>\n",
       "</div>"
      ],
      "text/plain": [
       "  L-CORE L-SURF       L-O2  L-BP SURF-STBL CORE-STBL     BP-STBL COMFORT   \n",
       "0    mid    low  excellent   mid    stable    stable      stable      15  \\\n",
       "1    mid   high  excellent  high    stable    stable      stable      10   \n",
       "2   high    low  excellent  high    stable    stable  mod-stable      10   \n",
       "3    mid    low       good  high    stable  unstable  mod-stable      15   \n",
       "4    mid    mid  excellent  high    stable    stable      stable      10   \n",
       "\n",
       "  decision ADM-DECS  \n",
       "0                 A  \n",
       "1                 S  \n",
       "2                 A  \n",
       "3                A   \n",
       "4                 A  "
      ]
     },
     "execution_count": 2,
     "metadata": {},
     "output_type": "execute_result"
    }
   ],
   "source": [
    "path = '../Artifacts/postoperativedata.csv'\n",
    "df = pd.read_csv(path)\n",
    "df.head()"
   ]
  },
  {
   "cell_type": "code",
   "execution_count": 3,
   "id": "e6801da6-eb44-4912-9b78-1b13cdf6e656",
   "metadata": {},
   "outputs": [
    {
     "data": {
      "text/plain": [
       "(90, 9)"
      ]
     },
     "execution_count": 3,
     "metadata": {},
     "output_type": "execute_result"
    }
   ],
   "source": [
    "df.shape"
   ]
  },
  {
   "cell_type": "code",
   "execution_count": 4,
   "id": "f791c89b-c7ef-4dbc-94d7-2cedf49e31ec",
   "metadata": {},
   "outputs": [
    {
     "name": "stdout",
     "output_type": "stream",
     "text": [
      "<class 'pandas.core.frame.DataFrame'>\n",
      "RangeIndex: 90 entries, 0 to 89\n",
      "Data columns (total 9 columns):\n",
      " #   Column             Non-Null Count  Dtype \n",
      "---  ------             --------------  ----- \n",
      " 0   L-CORE             90 non-null     object\n",
      " 1   L-SURF             90 non-null     object\n",
      " 2   L-O2               90 non-null     object\n",
      " 3   L-BP               90 non-null     object\n",
      " 4   SURF-STBL          90 non-null     object\n",
      " 5   CORE-STBL          90 non-null     object\n",
      " 6   BP-STBL            90 non-null     object\n",
      " 7   COMFORT            90 non-null     object\n",
      " 8   decision ADM-DECS  90 non-null     object\n",
      "dtypes: object(9)\n",
      "memory usage: 6.5+ KB\n"
     ]
    }
   ],
   "source": [
    "df.info()"
   ]
  },
  {
   "cell_type": "code",
   "execution_count": 5,
   "id": "97de1c37-6e27-4b9e-a68d-98476e598ca3",
   "metadata": {},
   "outputs": [
    {
     "name": "stdout",
     "output_type": "stream",
     "text": [
      "['mid' 'high' 'low']\n",
      "['low' 'high' 'mid']\n",
      "['excellent' 'good']\n",
      "['mid' 'high' 'low']\n",
      "['stable' 'unstable']\n",
      "['stable' 'unstable' 'mod-stable']\n",
      "['stable' 'mod-stable' 'unstable']\n",
      "['15' '10' '5' '7' '?']\n",
      "['A' 'S' 'A ' 'I']\n"
     ]
    }
   ],
   "source": [
    "for i in df.columns:\n",
    "    print(df[i].unique())"
   ]
  },
  {
   "cell_type": "code",
   "execution_count": 6,
   "id": "9fa42675-d8d8-433c-a1ba-e41410882cbf",
   "metadata": {},
   "outputs": [],
   "source": [
    "df[\"COMFORT\"] = df[\"COMFORT\"].replace(\"?\", \"10\")"
   ]
  },
  {
   "cell_type": "code",
   "execution_count": 7,
   "id": "b3568bc6-e1ff-4f4b-883e-760fcb2e88ad",
   "metadata": {},
   "outputs": [],
   "source": [
    "df[\"COMFORT\"] = pd.to_numeric(df[\"COMFORT\"])"
   ]
  },
  {
   "cell_type": "code",
   "execution_count": 9,
   "id": "c0ec36d5-52f1-45a7-8baf-abc8cb14a269",
   "metadata": {},
   "outputs": [
    {
     "name": "stdout",
     "output_type": "stream",
     "text": [
      "<class 'pandas.core.frame.DataFrame'>\n",
      "RangeIndex: 90 entries, 0 to 89\n",
      "Data columns (total 9 columns):\n",
      " #   Column             Non-Null Count  Dtype \n",
      "---  ------             --------------  ----- \n",
      " 0   L-CORE             90 non-null     object\n",
      " 1   L-SURF             90 non-null     object\n",
      " 2   L-O2               90 non-null     object\n",
      " 3   L-BP               90 non-null     object\n",
      " 4   SURF-STBL          90 non-null     object\n",
      " 5   CORE-STBL          90 non-null     object\n",
      " 6   BP-STBL            90 non-null     object\n",
      " 7   COMFORT            90 non-null     int64 \n",
      " 8   decision ADM-DECS  90 non-null     object\n",
      "dtypes: int64(1), object(8)\n",
      "memory usage: 6.5+ KB\n"
     ]
    }
   ],
   "source": [
    "df.info()"
   ]
  },
  {
   "cell_type": "code",
   "execution_count": 8,
   "id": "9edd15a1-c491-44b3-b288-4d96e99dc1af",
   "metadata": {},
   "outputs": [
    {
     "data": {
      "text/plain": [
       "L-CORE               0\n",
       "L-SURF               0\n",
       "L-O2                 0\n",
       "L-BP                 0\n",
       "SURF-STBL            0\n",
       "CORE-STBL            0\n",
       "BP-STBL              0\n",
       "COMFORT              0\n",
       "decision ADM-DECS    0\n",
       "dtype: int64"
      ]
     },
     "execution_count": 8,
     "metadata": {},
     "output_type": "execute_result"
    }
   ],
   "source": [
    "df.isnull().sum()"
   ]
  },
  {
   "cell_type": "code",
   "execution_count": 10,
   "id": "bbddcf6f-c176-4ba8-b15b-720fcfdd00fa",
   "metadata": {},
   "outputs": [
    {
     "data": {
      "text/html": [
       "<div>\n",
       "<style scoped>\n",
       "    .dataframe tbody tr th:only-of-type {\n",
       "        vertical-align: middle;\n",
       "    }\n",
       "\n",
       "    .dataframe tbody tr th {\n",
       "        vertical-align: top;\n",
       "    }\n",
       "\n",
       "    .dataframe thead th {\n",
       "        text-align: right;\n",
       "    }\n",
       "</style>\n",
       "<table border=\"1\" class=\"dataframe\">\n",
       "  <thead>\n",
       "    <tr style=\"text-align: right;\">\n",
       "      <th></th>\n",
       "      <th>L-CORE</th>\n",
       "      <th>L-SURF</th>\n",
       "      <th>L-O2</th>\n",
       "      <th>L-BP</th>\n",
       "      <th>SURF-STBL</th>\n",
       "      <th>CORE-STBL</th>\n",
       "      <th>BP-STBL</th>\n",
       "      <th>COMFORT</th>\n",
       "      <th>decision ADM-DECS</th>\n",
       "      <th>L-SURF</th>\n",
       "    </tr>\n",
       "  </thead>\n",
       "  <tbody>\n",
       "    <tr>\n",
       "      <th>0</th>\n",
       "      <td>mid</td>\n",
       "      <td>low</td>\n",
       "      <td>excellent</td>\n",
       "      <td>mid</td>\n",
       "      <td>stable</td>\n",
       "      <td>stable</td>\n",
       "      <td>stable</td>\n",
       "      <td>15</td>\n",
       "      <td>A</td>\n",
       "      <td>1</td>\n",
       "    </tr>\n",
       "    <tr>\n",
       "      <th>1</th>\n",
       "      <td>mid</td>\n",
       "      <td>high</td>\n",
       "      <td>excellent</td>\n",
       "      <td>high</td>\n",
       "      <td>stable</td>\n",
       "      <td>stable</td>\n",
       "      <td>stable</td>\n",
       "      <td>10</td>\n",
       "      <td>S</td>\n",
       "      <td>0</td>\n",
       "    </tr>\n",
       "    <tr>\n",
       "      <th>2</th>\n",
       "      <td>high</td>\n",
       "      <td>low</td>\n",
       "      <td>excellent</td>\n",
       "      <td>high</td>\n",
       "      <td>stable</td>\n",
       "      <td>stable</td>\n",
       "      <td>mod-stable</td>\n",
       "      <td>10</td>\n",
       "      <td>A</td>\n",
       "      <td>1</td>\n",
       "    </tr>\n",
       "    <tr>\n",
       "      <th>3</th>\n",
       "      <td>mid</td>\n",
       "      <td>low</td>\n",
       "      <td>good</td>\n",
       "      <td>high</td>\n",
       "      <td>stable</td>\n",
       "      <td>unstable</td>\n",
       "      <td>mod-stable</td>\n",
       "      <td>15</td>\n",
       "      <td>A</td>\n",
       "      <td>1</td>\n",
       "    </tr>\n",
       "    <tr>\n",
       "      <th>4</th>\n",
       "      <td>mid</td>\n",
       "      <td>mid</td>\n",
       "      <td>excellent</td>\n",
       "      <td>high</td>\n",
       "      <td>stable</td>\n",
       "      <td>stable</td>\n",
       "      <td>stable</td>\n",
       "      <td>10</td>\n",
       "      <td>A</td>\n",
       "      <td>2</td>\n",
       "    </tr>\n",
       "  </tbody>\n",
       "</table>\n",
       "</div>"
      ],
      "text/plain": [
       "  L-CORE  L-SURF       L-O2  L-BP SURF-STBL CORE-STBL     BP-STBL  COMFORT   \n",
       "0    mid     low  excellent   mid    stable    stable      stable       15  \\\n",
       "1    mid    high  excellent  high    stable    stable      stable       10   \n",
       "2   high     low  excellent  high    stable    stable  mod-stable       10   \n",
       "3    mid     low       good  high    stable  unstable  mod-stable       15   \n",
       "4    mid     mid  excellent  high    stable    stable      stable       10   \n",
       "\n",
       "  decision ADM-DECS  L-SURF  \n",
       "0                 A       1  \n",
       "1                 S       0  \n",
       "2                 A       1  \n",
       "3                A        1  \n",
       "4                 A       2  "
      ]
     },
     "execution_count": 10,
     "metadata": {},
     "output_type": "execute_result"
    }
   ],
   "source": [
    "le = LabelEncoder()\n",
    "deviceEnc = pd.DataFrame(le.fit_transform(df['L-SURF']), columns=['L-SURF'])\n",
    "\n",
    "dataEnc = pd.concat([df, deviceEnc], axis=1)\n",
    "dataEnc.head()"
   ]
  },
  {
   "cell_type": "code",
   "execution_count": null,
   "id": "cc398a3d-b543-4746-b917-57a5e675153a",
   "metadata": {},
   "outputs": [],
   "source": [
    "lightEnc = pd.DataFrame(le.fit_transform(dataEnc['L-CORE']), columns=['L-CORE'])\n",
    "lightEnc.index = dataEnc.index\n",
    "\n",
    "dataEnc2 = pd.concat([dataEnc, lightEnc], axis=1)\n",
    "dataEnc2.head()"
   ]
  },
  {
   "cell_type": "code",
   "execution_count": null,
   "id": "613ca682-fdee-485a-884a-d83e8ebe39be",
   "metadata": {},
   "outputs": [],
   "source": [
    "sns.countplot(data=df, x=\"decision ADM-DECS\")"
   ]
  },
  {
   "cell_type": "markdown",
   "id": "7a24e3e4-f830-4a9c-a23d-b8ce7f26988e",
   "metadata": {},
   "source": [
    "# Splitting the data "
   ]
  },
  {
   "cell_type": "code",
   "execution_count": null,
   "id": "52f5c50a-8457-49eb-b0b4-ca72f52228fc",
   "metadata": {},
   "outputs": [],
   "source": [
    "X = df[:, :-1]\n",
    "y = df[:, -1]"
   ]
  },
  {
   "cell_type": "code",
   "execution_count": null,
   "id": "35c4c98c-8060-4c4a-a716-fb1eae97d339",
   "metadata": {},
   "outputs": [],
   "source": [
    "X_train, X_test, y_train, y_test = train_test_split(\n",
    "    X, y, test_size=0.2, random_state=42\n",
    ")"
   ]
  },
  {
   "cell_type": "markdown",
   "id": "f2cd3531-1f98-426e-8b83-b9c322fe33da",
   "metadata": {},
   "source": [
    "# Model Building"
   ]
  },
  {
   "cell_type": "code",
   "execution_count": 2,
   "id": "0ca3b9a1-3f39-4265-9900-b52dbeee635f",
   "metadata": {},
   "outputs": [],
   "source": [
    "models = {}\n",
    "models[\"Logistic Regression\"] = LogisticRegression()\n",
    "models[\"Stochastic Gradient Descent\"] = SGDClassifier(\n",
    "    loss=\"modified_huber\", shuffle=True, random_state=101\n",
    ")\n",
    "models[\"Support Vector Machines\"] = LinearSVC()\n",
    "models[\"Decision Trees\"] = DecisionTreeClassifier()\n",
    "models[\"Random Forest\"] = RandomForestClassifier()\n",
    "models[\"Naive Bayes\"] = GaussianNB()\n",
    "models[\"K-Nearest Neighbor\"] = KNeighborsClassifier()"
   ]
  },
  {
   "cell_type": "code",
   "execution_count": 3,
   "id": "650c2032-178e-45d0-975c-b8af4c6bbb49",
   "metadata": {},
   "outputs": [
    {
     "name": "stdout",
     "output_type": "stream",
     "text": [
      "Model:\tLogisticRegression()\n",
      "Model:\tSGDClassifier(loss='modified_huber', random_state=101)\n",
      "Model:\tLinearSVC()\n",
      "Model:\tDecisionTreeClassifier()\n",
      "Model:\tRandomForestClassifier()\n",
      "Model:\tGaussianNB()\n",
      "Model:\tKNeighborsClassifier()\n"
     ]
    }
   ],
   "source": [
    "for i in range(len(list(models))):\n",
    "    model = list(models.values())[i]\n",
    "    print(\"Model:\\t{}\".format(model))"
   ]
  },
  {
   "cell_type": "markdown",
   "id": "49ada0dc-f789-4ec9-b620-cd3a8705e070",
   "metadata": {},
   "source": [
    " # Training the models and calculating the acuuaracy"
   ]
  },
  {
   "cell_type": "code",
   "execution_count": null,
   "id": "c550fa99-1e43-4d1c-924f-a17b11b6b40a",
   "metadata": {},
   "outputs": [],
   "source": [
    "accuracy, precision, recall, r2 = {}, {}, {}, {}\n",
    "for i in range(len(list(models))):\n",
    "    model = list(models.values())[i]\n",
    "    model.fit(X_train, y_train)\n",
    "    predictions = model.predict(X_test)\n",
    "    accuracy[key] = accuracy_score(predictions, y_test)\n",
    "    precision[key] = precision_score(predictions, y_test)\n",
    "    recall[key] = recall_score(predictions, y_test)\n",
    "    r2[key] = r2_score(predictions, X_test)"
   ]
  },
  {
   "cell_type": "markdown",
   "id": "c1bf108f-84ee-4368-a659-51e8aa4b4594",
   "metadata": {},
   "source": [
    "# Accuaracy of models build "
   ]
  },
  {
   "cell_type": "code",
   "execution_count": null,
   "id": "2f335ae8-2193-47a1-93c7-debbc3ff6b6a",
   "metadata": {},
   "outputs": [],
   "source": [
    "df_model = pd.DataFrame(\n",
    "    index=models.keys(), columns=[\"Accuracy\", \"Precision\", \"Recall\"]\n",
    ")\n",
    "df_model[\"Accuracy\"] = accuracy.values()\n",
    "df_model[\"Precision\"] = precision.values()\n",
    "df_model[\"Recall\"] = recall.values()\n",
    "df_model[\"R2 Score\"] = r2_score.values()\n",
    "\n",
    "df_model"
   ]
  },
  {
   "cell_type": "code",
   "execution_count": null,
   "id": "a21c7d4d-f50d-4205-af2b-ed77d26b25e1",
   "metadata": {},
   "outputs": [],
   "source": [
    "ax = df_model.plot.barh()\n",
    "ax.legend(\n",
    "    ncol=len(models.keys()), bbox_to_anchor=(0, 1), loc=\"lower left\", prop={\"size\": 14}\n",
    ")\n",
    "plt.tight_layout()"
   ]
  }
 ],
 "metadata": {
  "kernelspec": {
   "display_name": "Python 3 (ipykernel)",
   "language": "python",
   "name": "python3"
  },
  "language_info": {
   "codemirror_mode": {
    "name": "ipython",
    "version": 3
   },
   "file_extension": ".py",
   "mimetype": "text/x-python",
   "name": "python",
   "nbconvert_exporter": "python",
   "pygments_lexer": "ipython3",
   "version": "3.10.11"
  }
 },
 "nbformat": 4,
 "nbformat_minor": 5
}
