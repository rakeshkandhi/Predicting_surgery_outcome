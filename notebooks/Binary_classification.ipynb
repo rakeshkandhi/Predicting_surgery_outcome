{
 "cells": [
  {
   "cell_type": "markdown",
   "id": "a039bac8-2aa7-436b-a0c0-5d77572c63d7",
   "metadata": {},
   "source": [
    "# Libraries"
   ]
  },
  {
   "cell_type": "code",
   "execution_count": null,
   "id": "ab4e7c59-cdf9-459a-a951-f5b7f9b99d75",
   "metadata": {},
   "outputs": [],
   "source": [
    "import matplotlib.pyplot as pyplot\n",
    "import pandas as np\n",
    "from sklearn.ensemble import RandomForestClassifier\n",
    "from sklearn.linear_model import LogisticRegression, SGDClassifier\n",
    "from sklearn.metrics import (\n",
    "    accuracy_score,\n",
    "    confusion_matrix,\n",
    "    precision_score,\n",
    "    r2_score,\n",
    "    recall_score,\n",
    ")\n",
    "from sklearn.naive_bayes import GaussianNB\n",
    "from sklearn.neighbors import KNeighborsClassifier\n",
    "from sklearn.preprocessing import StandardScaler\n",
    "from sklearn.svm import LinearSVC\n",
    "from sklearn.tree import DecisionTreeClassifier"
   ]
  },
  {
   "cell_type": "markdown",
   "id": "f2cd3531-1f98-426e-8b83-b9c322fe33da",
   "metadata": {},
   "source": [
    "# Model Building"
   ]
  },
  {
   "cell_type": "code",
   "execution_count": null,
   "id": "0ca3b9a1-3f39-4265-9900-b52dbeee635f",
   "metadata": {},
   "outputs": [],
   "source": [
    "models = {}\n",
    "models[\"Logistic Regression\"] = LogisticRegression()\n",
    "models[\"Stochastic Gradient Descent\"] = SGDClassifier(\n",
    "    loss=\"modified_huber\", shuffle=True, random_state=101\n",
    ")\n",
    "models[\"Support Vector Machines\"] = LinearSVC()\n",
    "models[\"Decision Trees\"] = DecisionTreeClassifier()\n",
    "models[\"Random Forest\"] = RandomForestClassifier()\n",
    "models[\"Naive Bayes\"] = GaussianNB()\n",
    "models[\"K-Nearest Neighbor\"] = KNeighborsClassifier()"
   ]
  },
  {
   "cell_type": "code",
   "execution_count": null,
   "id": "650c2032-178e-45d0-975c-b8af4c6bbb49",
   "metadata": {},
   "outputs": [],
   "source": [
    "for i in range(len(list(models))):\n",
    "    model = list(models.values())[i]\n",
    "    print(\"Model:\\t{}\".format(model))"
   ]
  },
  {
   "cell_type": "markdown",
   "id": "49ada0dc-f789-4ec9-b620-cd3a8705e070",
   "metadata": {},
   "source": [
    " # Training the models and calculating the acuuaracy"
   ]
  },
  {
   "cell_type": "code",
   "execution_count": null,
   "id": "c550fa99-1e43-4d1c-924f-a17b11b6b40a",
   "metadata": {},
   "outputs": [],
   "source": [
    "accuracy, precision, recall, r2 = {}, {}, {}, {}\n",
    "for i in range(len(list(models))):\n",
    "    model = list(models.values())[i]\n",
    "    model.fit(X_train, y_train)\n",
    "\n",
    "    predictions = model.predict(X_test)\n",
    "\n",
    "    accuracy[key] = accuracy_score(predictions, y_test)\n",
    "    precision[key] = precision_score(predictions, y_test)\n",
    "    recall[key] = recall_score(predictions, y_test)\n",
    "    r2[key] = r2_score(predictions, X_test)"
   ]
  },
  {
   "cell_type": "markdown",
   "id": "c1bf108f-84ee-4368-a659-51e8aa4b4594",
   "metadata": {},
   "source": [
    "# Accuaracy of models build "
   ]
  },
  {
   "cell_type": "code",
   "execution_count": null,
   "id": "2f335ae8-2193-47a1-93c7-debbc3ff6b6a",
   "metadata": {},
   "outputs": [],
   "source": [
    "df_model = pd.DataFrame(\n",
    "    index=models.keys(), columns=[\"Accuracy\", \"Precision\", \"Recall\"]\n",
    ")\n",
    "df_model[\"Accuracy\"] = accuracy.values()\n",
    "df_model[\"Precision\"] = precision.values()\n",
    "df_model[\"Recall\"] = recall.values()\n",
    "df_model[\"R2 Score\"] = r2_score.values()\n",
    "\n",
    "df_model"
   ]
  },
  {
   "cell_type": "code",
   "execution_count": null,
   "id": "a21c7d4d-f50d-4205-af2b-ed77d26b25e1",
   "metadata": {},
   "outputs": [],
   "source": [
    "ax = df_model.plot.barh()\n",
    "ax.legend(\n",
    "    ncol=len(models.keys()), bbox_to_anchor=(0, 1), loc=\"lower left\", prop={\"size\": 14}\n",
    ")\n",
    "plt.tight_layout()"
   ]
  }
 ],
 "metadata": {
  "kernelspec": {
   "display_name": "Python 3 (ipykernel)",
   "language": "python",
   "name": "python3"
  },
  "language_info": {
   "codemirror_mode": {
    "name": "ipython",
    "version": 3
   },
   "file_extension": ".py",
   "mimetype": "text/x-python",
   "name": "python",
   "nbconvert_exporter": "python",
   "pygments_lexer": "ipython3",
   "version": "3.10.11"
  }
 },
 "nbformat": 4,
 "nbformat_minor": 5
}
